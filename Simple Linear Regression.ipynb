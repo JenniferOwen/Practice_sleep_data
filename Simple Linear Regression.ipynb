{
 "cells": [
  {
   "cell_type": "markdown",
   "metadata": {},
   "source": [
    "# Regression and Prediction\n",
    "\n",
    "## Simple Linear Regression\n",
    "\n",
    "Simple linear regression models the relationship between the magnitude of one variable X and a second Y. The difference between SLR and correlation is that while correlation measures the strength of an association between two variables, regression quantifies the nature of the relationship.\n",
    "\n",
    "## Regression equation\n",
    "\n",
    "Simple linear regression estimates how much Y will change when X changes. We are trying to predict the Y variable from X using a linear relationship.\n",
    "\n",
    "Y=b0+b1X\n",
    "\n",
    "### Using a set of data to build linear regression model\n"
   ]
  },
  {
   "cell_type": "code",
   "execution_count": 15,
   "metadata": {},
   "outputs": [
    {
     "data": {
      "text/html": [
       "<div>\n",
       "<style scoped>\n",
       "    .dataframe tbody tr th:only-of-type {\n",
       "        vertical-align: middle;\n",
       "    }\n",
       "\n",
       "    .dataframe tbody tr th {\n",
       "        vertical-align: top;\n",
       "    }\n",
       "\n",
       "    .dataframe thead th {\n",
       "        text-align: right;\n",
       "    }\n",
       "</style>\n",
       "<table border=\"1\" class=\"dataframe\">\n",
       "  <thead>\n",
       "    <tr style=\"text-align: right;\">\n",
       "      <th></th>\n",
       "      <th>Unnamed: 0</th>\n",
       "      <th>Sleep quality</th>\n",
       "      <th>Sleep Notes</th>\n",
       "      <th>Heart rate</th>\n",
       "      <th>Activity (steps)</th>\n",
       "      <th>Time in bed in minutes</th>\n",
       "      <th>Day</th>\n",
       "      <th>Month</th>\n",
       "      <th>Year</th>\n",
       "      <th>Bedtime</th>\n",
       "      <th>Woke up</th>\n",
       "      <th>Mood (out of 3)</th>\n",
       "    </tr>\n",
       "  </thead>\n",
       "  <tbody>\n",
       "    <tr>\n",
       "      <th>0</th>\n",
       "      <td>5</td>\n",
       "      <td>63.0</td>\n",
       "      <td>Away from home:Drinking alcohol</td>\n",
       "      <td>81</td>\n",
       "      <td>10663</td>\n",
       "      <td>498.0</td>\n",
       "      <td>3</td>\n",
       "      <td>12</td>\n",
       "      <td>2017</td>\n",
       "      <td>00:44</td>\n",
       "      <td>09:02</td>\n",
       "      <td>2</td>\n",
       "    </tr>\n",
       "    <tr>\n",
       "      <th>1</th>\n",
       "      <td>6</td>\n",
       "      <td>72.0</td>\n",
       "      <td>Incense</td>\n",
       "      <td>67</td>\n",
       "      <td>16018</td>\n",
       "      <td>399.0</td>\n",
       "      <td>3</td>\n",
       "      <td>12</td>\n",
       "      <td>2017</td>\n",
       "      <td>23:17</td>\n",
       "      <td>05:56</td>\n",
       "      <td>2</td>\n",
       "    </tr>\n",
       "    <tr>\n",
       "      <th>2</th>\n",
       "      <td>7</td>\n",
       "      <td>84.0</td>\n",
       "      <td>Stressful day:🙂</td>\n",
       "      <td>81</td>\n",
       "      <td>6064</td>\n",
       "      <td>490.0</td>\n",
       "      <td>4</td>\n",
       "      <td>12</td>\n",
       "      <td>2017</td>\n",
       "      <td>22:38</td>\n",
       "      <td>06:49</td>\n",
       "      <td>2</td>\n",
       "    </tr>\n",
       "    <tr>\n",
       "      <th>3</th>\n",
       "      <td>8</td>\n",
       "      <td>83.0</td>\n",
       "      <td>Aerial:🙁</td>\n",
       "      <td>89</td>\n",
       "      <td>4378</td>\n",
       "      <td>496.0</td>\n",
       "      <td>5</td>\n",
       "      <td>12</td>\n",
       "      <td>2017</td>\n",
       "      <td>22:34</td>\n",
       "      <td>06:50</td>\n",
       "      <td>2</td>\n",
       "    </tr>\n",
       "    <tr>\n",
       "      <th>4</th>\n",
       "      <td>9</td>\n",
       "      <td>74.0</td>\n",
       "      <td>Incense</td>\n",
       "      <td>81</td>\n",
       "      <td>3105</td>\n",
       "      <td>450.0</td>\n",
       "      <td>6</td>\n",
       "      <td>12</td>\n",
       "      <td>2017</td>\n",
       "      <td>23:31</td>\n",
       "      <td>07:01</td>\n",
       "      <td>2</td>\n",
       "    </tr>\n",
       "  </tbody>\n",
       "</table>\n",
       "</div>"
      ],
      "text/plain": [
       "   Unnamed: 0  Sleep quality                      Sleep Notes  Heart rate  \\\n",
       "0           5           63.0  Away from home:Drinking alcohol          81   \n",
       "1           6           72.0                          Incense          67   \n",
       "2           7           84.0                  Stressful day:🙂          81   \n",
       "3           8           83.0                         Aerial:🙁          89   \n",
       "4           9           74.0                          Incense          81   \n",
       "\n",
       "   Activity (steps)  Time in bed in minutes  Day  Month  Year Bedtime Woke up  \\\n",
       "0             10663                   498.0    3     12  2017   00:44   09:02   \n",
       "1             16018                   399.0    3     12  2017   23:17   05:56   \n",
       "2              6064                   490.0    4     12  2017   22:38   06:49   \n",
       "3              4378                   496.0    5     12  2017   22:34   06:50   \n",
       "4              3105                   450.0    6     12  2017   23:31   07:01   \n",
       "\n",
       "   Mood (out of 3)  \n",
       "0                2  \n",
       "1                2  \n",
       "2                2  \n",
       "3                2  \n",
       "4                2  "
      ]
     },
     "execution_count": 15,
     "metadata": {},
     "output_type": "execute_result"
    }
   ],
   "source": [
    "# Load the Pandas libraries with alias 'pd' \n",
    "import pandas as pd \n",
    "\n",
    "# Read data from file 'filename.csv' \n",
    "# (in the same directory that your python process is based)\n",
    "# Control delimiters, rows, column names with read_csv (see later) \n",
    "df = pd.read_csv(\"clean_sleepdata.csv\") \n",
    "\n",
    "# Preview the first 5 lines of the loaded data \n",
    "df.head()"
   ]
  },
  {
   "cell_type": "code",
   "execution_count": 16,
   "metadata": {},
   "outputs": [
    {
     "name": "stdout",
     "output_type": "stream",
     "text": [
      "<class 'pandas.core.frame.DataFrame'>\n",
      "RangeIndex: 323 entries, 0 to 322\n",
      "Data columns (total 12 columns):\n",
      "Unnamed: 0                323 non-null int64\n",
      "Sleep quality             323 non-null float64\n",
      "Sleep Notes               225 non-null object\n",
      "Heart rate                323 non-null int64\n",
      "Activity (steps)          323 non-null int64\n",
      "Time in bed in minutes    323 non-null float64\n",
      "Day                       323 non-null int64\n",
      "Month                     323 non-null int64\n",
      "Year                      323 non-null int64\n",
      "Bedtime                   323 non-null object\n",
      "Woke up                   323 non-null object\n",
      "Mood (out of 3)           323 non-null int64\n",
      "dtypes: float64(2), int64(7), object(3)\n",
      "memory usage: 30.4+ KB\n"
     ]
    }
   ],
   "source": [
    "df.info()\n"
   ]
  },
  {
   "cell_type": "markdown",
   "metadata": {},
   "source": [
    "## Interpreting my sleep data \n",
    "\n",
    "I want to know what my sleep quality is related to. I'm interested in two potential variables: time spent in bed and activity (number of steps). From checking the information regarding my data frame I notice that Time edit rounded up to the nearest hour is a float and not an integer. So in the next few steps I will clean my data and then perform linear regression. \n",
    "\n",
    "First, I am going to import linear regression from sci-kit learn module. Then I am doing to drop the Sleep quality column as I want only the parameters as my X values. I'm going to store linear regression objects in a variable called lm."
   ]
  },
  {
   "cell_type": "code",
   "execution_count": 17,
   "metadata": {},
   "outputs": [],
   "source": [
    "from sklearn.linear_model import LinearRegression\n",
    "import matplotlib.pyplot as plt\n",
    "import numpy as np\n",
    "import statsmodels.api as sm\n",
    "\n",
    "#This creates a LinearRegression object\n",
    "lm = LinearRegression()\n",
    "\n",
    "#I want to know if my time in bed or activity effects my sleep quality\n",
    "X_Time_in_Bed= df[['Time in bed in minutes']]\n",
    "X_Activity= df[['Activity (steps)']]\n",
    "Y= df[['Sleep quality']]\n"
   ]
  },
  {
   "cell_type": "markdown",
   "metadata": {},
   "source": [
    "### Inside the linear regression object\n",
    "\n",
    "**lm.fit()** - > fits a linear model\n",
    "\n",
    "**lm.predict()** -> predicts Y using the linear model with estimated coefficients\n",
    "\n",
    "**lm.score()** -> Returns the coefficient of determination (R^2)\n",
    "\n",
    "**lm.coef_** -> Estimated coefficients\n",
    "\n",
    "**lm.intercept_** -> Estimated intercept\n",
    "\n",
    "## Fitting a Linear Model\n"
   ]
  },
  {
   "cell_type": "code",
   "execution_count": 18,
   "metadata": {},
   "outputs": [
    {
     "data": {
      "text/plain": [
       "LinearRegression(copy_X=True, fit_intercept=True, n_jobs=1, normalize=False)"
      ]
     },
     "execution_count": 18,
     "metadata": {},
     "output_type": "execute_result"
    }
   ],
   "source": [
    "lm.fit(X_Time_in_Bed,Y)"
   ]
  },
  {
   "cell_type": "markdown",
   "metadata": {},
   "source": [
    "I am going to print the intercept and number of coefficients"
   ]
  },
  {
   "cell_type": "code",
   "execution_count": 19,
   "metadata": {},
   "outputs": [
    {
     "name": "stdout",
     "output_type": "stream",
     "text": [
      "Estimated coefficient: [[0.15402888]]\n",
      "Estimated intercept coefficient: [8.22163316]\n",
      "Number of coefficients: 1\n"
     ]
    }
   ],
   "source": [
    "print('Estimated coefficient:', lm.coef_)\n",
    "print('Estimated intercept coefficient:', lm.intercept_)\n",
    "print('Number of coefficients:', len(lm.coef_))"
   ]
  },
  {
   "cell_type": "markdown",
   "metadata": {},
   "source": [
    "The regression coefficient can be interpreted as for each extra hour of sleep I get, my sleep quality is increased by 8.2%. The intercept 0.15 can be interpretted as the predicted sleep quality percentage I get if I sleep for zero hours. Not so realistic.\n",
    "\n",
    "The regression line from this model is displayed below:"
   ]
  },
  {
   "cell_type": "code",
   "execution_count": 20,
   "metadata": {},
   "outputs": [
    {
     "data": {
      "image/png": "[encoded data removed]",
      "text/plain": [
       "<Figure size 1152x576 with 1 Axes>"
      ]
     },
     "metadata": {},
     "output_type": "display_data"
    }
   ],
   "source": [
    "predictions = lm.predict(X_Time_in_Bed)\n",
    "\n",
    "\n",
    "plt.figure(figsize=(16, 8))\n",
    "plt.scatter(\n",
    "    X_Time_in_Bed,\n",
    "    Y,\n",
    "    c='black'\n",
    ")\n",
    "\n",
    "plt.plot(\n",
    "    X_Time_in_Bed,\n",
    "    predictions,\n",
    "    c='blue',\n",
    "    linewidth=2\n",
    ")\n",
    "\n",
    "plt.xlabel(\"Time spent in bed\")\n",
    "plt.ylabel(\"Sleep quality (%)\")\n",
    "plt.show()"
   ]
  },
  {
   "cell_type": "markdown",
   "metadata": {},
   "source": [
    "Seems good to me. Sleep quality appears to be related to time spent in bed\n"
   ]
  },
  {
   "cell_type": "markdown",
   "metadata": {},
   "source": [
    "## Assessing the relevancy of the model\n",
    "To see if the model is any good, we need to look at the R² value and the p-value from each coefficient. The regression line is the estimate that minimises the sum of squared residual values (RSS). The method of minimising the sum of squared residuals is termed least squares regression of ordinary least squares (OLS). "
   ]
  },
  {
   "cell_type": "code",
   "execution_count": 21,
   "metadata": {},
   "outputs": [
    {
     "name": "stdout",
     "output_type": "stream",
     "text": [
      "                            OLS Regression Results                            \n",
      "==============================================================================\n",
      "Dep. Variable:          Sleep quality   R-squared:                       0.739\n",
      "Model:                            OLS   Adj. R-squared:                  0.738\n",
      "Method:                 Least Squares   F-statistic:                     909.6\n",
      "Date:                Sat, 21 Sep 2019   Prob (F-statistic):           1.10e-95\n",
      "Time:                        19:19:20   Log-Likelihood:                -1141.3\n",
      "No. Observations:                 323   AIC:                             2287.\n",
      "Df Residuals:                     321   BIC:                             2294.\n",
      "Df Model:                           1                                         \n",
      "Covariance Type:            nonrobust                                         \n",
      "==========================================================================================\n",
      "                             coef    std err          t      P>|t|      [0.025      0.975]\n",
      "------------------------------------------------------------------------------------------\n",
      "const                      8.2216      2.312      3.556      0.000       3.673      12.771\n",
      "Time in bed in minutes     0.1540      0.005     30.160      0.000       0.144       0.164\n",
      "==============================================================================\n",
      "Omnibus:                      141.415   Durbin-Watson:                   1.662\n",
      "Prob(Omnibus):                  0.000   Jarque-Bera (JB):              687.761\n",
      "Skew:                          -1.808   Prob(JB):                    4.51e-150\n",
      "Kurtosis:                       9.167   Cond. No.                     2.26e+03\n",
      "==============================================================================\n",
      "\n",
      "Warnings:\n",
      "[1] Standard Errors assume that the covariance matrix of the errors is correctly specified.\n",
      "[2] The condition number is large, 2.26e+03. This might indicate that there are\n",
      "strong multicollinearity or other numerical problems.\n"
     ]
    }
   ],
   "source": [
    "X2 = sm.add_constant(X_Time_in_Bed)\n",
    "est = sm.OLS(Y, X2)\n",
    "est2 = est.fit()\n",
    "print(est2.summary())"
   ]
  },
  {
   "cell_type": "markdown",
   "metadata": {},
   "source": [
    "Looking at both coefficients, we have a p-value that is very low (p<0.01). This means that there is a strong correlation between these coefficients and the target (Sleep quality (%)).\n",
    "Then, looking at the R² value, we have 0.739. Therefore, about 74% of the variability of my sleep quality is \n",
    "explained by the number of hours sleep that I get."
   ]
  },
  {
   "cell_type": "markdown",
   "metadata": {},
   "source": [
    "# Making a prediction\n",
    "\n",
    "I would like to know what sleep quality I would expect to get if I only sleep 7 hours a night. To do this I generate a prediction using my model"
   ]
  },
  {
   "cell_type": "code",
   "execution_count": 31,
   "metadata": {},
   "outputs": [
    {
     "name": "stdout",
     "output_type": "stream",
     "text": [
      "If I sleep 7 hours in a night my sleep quality I would predict to get is [[72.91376433]] %\n"
     ]
    }
   ],
   "source": [
    "X_predict = 7*60  # 7*60 minutes is 7 hours\n",
    "y_predict = lm.predict(X_predict)\n",
    "print('If I sleep 7 hours in a night my sleep quality I would predict to get is', y_predict, '%')"
   ]
  },
  {
   "cell_type": "markdown",
   "metadata": {},
   "source": [
    "What about if I only get 3 hours of sleep?"
   ]
  },
  {
   "cell_type": "code",
   "execution_count": 32,
   "metadata": {},
   "outputs": [
    {
     "name": "stdout",
     "output_type": "stream",
     "text": [
      "If I sleep 3 hours in a night my sleep quality I would predict to get is [[35.94683223]] %\n"
     ]
    }
   ],
   "source": [
    "X_predict = 3*60  # 3*60 minutes is 3 hours\n",
    "y_predict = lm.predict(X_predict)\n",
    "print('If I sleep 3 hours in a night my sleep quality I would predict to get is', y_predict, '%')"
   ]
  },
  {
   "cell_type": "markdown",
   "metadata": {},
   "source": [
    "Yikes!"
   ]
  }
 ],
 "metadata": {
  "kernelspec": {
   "display_name": "Python 3",
   "language": "python",
   "name": "python3"
  },
  "language_info": {
   "codemirror_mode": {
    "name": "ipython",
    "version": 3
   },
   "file_extension": ".py",
   "mimetype": "text/x-python",
   "name": "python",
   "nbconvert_exporter": "python",
   "pygments_lexer": "ipython3",
   "version": "3.7.3"
  }
 },
 "nbformat": 4,
 "nbformat_minor": 2
}
