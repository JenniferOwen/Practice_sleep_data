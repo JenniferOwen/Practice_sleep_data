{
 "cells": [
  {
   "cell_type": "markdown",
   "metadata": {},
   "source": [
    "# Regression and Prediction\n",
    "\n",
    "## Simple Linear Regression\n",
    "\n",
    "Simple linear regression models the relationship between the magnitude of one variable X and a second Y. The difference between SLR and correlation is that while correlation measures the strength of an association between two variables, regression quantifies the nature of the relationship.\n",
    "\n",
    "## Regression equation\n",
    "\n",
    "Simple linear regression estimates how much Y will change when X changes. We are trying to predict the Y variable from X using a linear relationship.\n",
    "\n",
    "Y=b0+b1X\n",
    "\n",
    "### Using a set of data to build linear regression model\n"
   ]
  },
  {
   "cell_type": "code",
   "execution_count": 1,
   "metadata": {},
   "outputs": [
    {
     "data": {
      "text/html": [
       "<div>\n",
       "<style scoped>\n",
       "    .dataframe tbody tr th:only-of-type {\n",
       "        vertical-align: middle;\n",
       "    }\n",
       "\n",
       "    .dataframe tbody tr th {\n",
       "        vertical-align: top;\n",
       "    }\n",
       "\n",
       "    .dataframe thead th {\n",
       "        text-align: right;\n",
       "    }\n",
       "</style>\n",
       "<table border=\"1\" class=\"dataframe\">\n",
       "  <thead>\n",
       "    <tr style=\"text-align: right;\">\n",
       "      <th></th>\n",
       "      <th>Start</th>\n",
       "      <th>End</th>\n",
       "      <th>Sleep quality</th>\n",
       "      <th>Time in bed</th>\n",
       "      <th>Wake up</th>\n",
       "      <th>Sleep Notes</th>\n",
       "      <th>Heart rate</th>\n",
       "      <th>Activity (steps)</th>\n",
       "      <th>Time edit</th>\n",
       "    </tr>\n",
       "  </thead>\n",
       "  <tbody>\n",
       "    <tr>\n",
       "      <th>0</th>\n",
       "      <td>2017-11-27 23:11:00</td>\n",
       "      <td>2017-11-28 06:09:09</td>\n",
       "      <td>62</td>\n",
       "      <td>6.58</td>\n",
       "      <td></td>\n",
       "      <td></td>\n",
       "      <td>0</td>\n",
       "      <td>1564</td>\n",
       "      <td>7.0</td>\n",
       "    </tr>\n",
       "    <tr>\n",
       "      <th>1</th>\n",
       "      <td>2017-11-29 00:41:04</td>\n",
       "      <td>2017-11-29 07:09:51</td>\n",
       "      <td>59</td>\n",
       "      <td>6.28</td>\n",
       "      <td></td>\n",
       "      <td>Aerial:Worked out</td>\n",
       "      <td>0</td>\n",
       "      <td>8144</td>\n",
       "      <td>7.0</td>\n",
       "    </tr>\n",
       "    <tr>\n",
       "      <th>2</th>\n",
       "      <td>2017-11-29 23:53:11</td>\n",
       "      <td>2017-11-30 07:27:05</td>\n",
       "      <td>91</td>\n",
       "      <td>7.33</td>\n",
       "      <td></td>\n",
       "      <td></td>\n",
       "      <td>0</td>\n",
       "      <td>6707</td>\n",
       "      <td>8.0</td>\n",
       "    </tr>\n",
       "    <tr>\n",
       "      <th>3</th>\n",
       "      <td>2017-11-30 23:07:29</td>\n",
       "      <td>2017-12-01 05:58:18</td>\n",
       "      <td>79</td>\n",
       "      <td>6.50</td>\n",
       "      <td></td>\n",
       "      <td></td>\n",
       "      <td>0</td>\n",
       "      <td>4778</td>\n",
       "      <td>7.0</td>\n",
       "    </tr>\n",
       "    <tr>\n",
       "      <th>4</th>\n",
       "      <td>2017-12-01 23:19:21</td>\n",
       "      <td>2017-12-02 05:58:20</td>\n",
       "      <td>77</td>\n",
       "      <td>6.38</td>\n",
       "      <td></td>\n",
       "      <td>Pole fitness:Worked out</td>\n",
       "      <td>0</td>\n",
       "      <td>7111</td>\n",
       "      <td>7.0</td>\n",
       "    </tr>\n",
       "  </tbody>\n",
       "</table>\n",
       "</div>"
      ],
      "text/plain": [
       "                  Start                   End   Sleep quality   Time in bed  \\\n",
       "0   2017-11-27 23:11:00   2017-11-28 06:09:09              62          6.58   \n",
       "1   2017-11-29 00:41:04   2017-11-29 07:09:51              59          6.28   \n",
       "2   2017-11-29 23:53:11   2017-11-30 07:27:05              91          7.33   \n",
       "3   2017-11-30 23:07:29   2017-12-01 05:58:18              79          6.50   \n",
       "4   2017-12-01 23:19:21   2017-12-02 05:58:20              77          6.38   \n",
       "\n",
       "   Wake up               Sleep Notes   Heart rate   Activity (steps)  \\\n",
       "0                                               0               1564   \n",
       "1                  Aerial:Worked out            0               8144   \n",
       "2                                               0               6707   \n",
       "3                                               0               4778   \n",
       "4            Pole fitness:Worked out            0               7111   \n",
       "\n",
       "   Time edit  \n",
       "0        7.0  \n",
       "1        7.0  \n",
       "2        8.0  \n",
       "3        7.0  \n",
       "4        7.0  "
      ]
     },
     "execution_count": 1,
     "metadata": {},
     "output_type": "execute_result"
    }
   ],
   "source": [
    "# Load the Pandas libraries with alias 'pd' \n",
    "import pandas as pd \n",
    "\n",
    "# Read data from file 'filename.csv' \n",
    "# (in the same directory that your python process is based)\n",
    "# Control delimiters, rows, column names with read_csv (see later) \n",
    "df = pd.read_csv(\"sleepdata2.csv\") \n",
    "\n",
    "# Preview the first 5 lines of the loaded data \n",
    "df.head()"
   ]
  },
  {
   "cell_type": "code",
   "execution_count": 2,
   "metadata": {},
   "outputs": [
    {
     "name": "stdout",
     "output_type": "stream",
     "text": [
      "<class 'pandas.core.frame.DataFrame'>\n",
      "RangeIndex: 339 entries, 0 to 338\n",
      "Data columns (total 9 columns):\n",
      "Start                339 non-null object\n",
      " End                 339 non-null object\n",
      " Sleep quality       339 non-null int64\n",
      " Time in bed         339 non-null float64\n",
      " Wake up             339 non-null object\n",
      " Sleep Notes         339 non-null object\n",
      " Heart rate          339 non-null int64\n",
      " Activity (steps)    339 non-null int64\n",
      "Time edit            338 non-null float64\n",
      "dtypes: float64(2), int64(3), object(4)\n",
      "memory usage: 23.9+ KB\n"
     ]
    }
   ],
   "source": [
    "df.info()\n"
   ]
  },
  {
   "cell_type": "markdown",
   "metadata": {},
   "source": [
    "## Interpreting my sleep data \n",
    "\n",
    "I want to know what my sleep quality is related to. I'm interested in two potential variables: time spent in bed and activity (number of steps). From checking the information regarding my data frame I notice that Time edit rounded up to the nearest hour is a float and not an integer. So in the next few steps I will clean my data and then perform linear regression. \n",
    "\n",
    "First, I am going to import linear regression from sci-kit learn module. Then I am doing to drop the Sleep quality column as I want only the parameters as my X values. I'm going to store linear regression objects in a variable called lm."
   ]
  },
  {
   "cell_type": "code",
   "execution_count": 3,
   "metadata": {},
   "outputs": [],
   "source": [
    "from sklearn.linear_model import LinearRegression\n",
    "import matplotlib.pyplot as plt\n",
    "import numpy as np\n",
    "import statsmodels.api as sm\n",
    "\n",
    "# convert column \"Time edit\" to integer\n",
    "df = df.astype({\" Time in bed\": int})\n",
    "\n",
    "#This creates a LinearRegression object\n",
    "lm = LinearRegression()\n",
    "\n",
    "#I want to know if my time in bed or activity effects my sleep quality\n",
    "X_Time_in_Bed= df[[' Time in bed']]\n",
    "X_Activity= df[[' Activity (steps)']]\n",
    "Y= df[[' Sleep quality']]\n"
   ]
  },
  {
   "cell_type": "markdown",
   "metadata": {},
   "source": [
    "### Inside the linear regression object\n",
    "\n",
    "**lm.fit()** - > fits a linear model\n",
    "\n",
    "**lm.predict()** -> predicts Y using the linear model with estimated coefficients\n",
    "\n",
    "**lm.score()** -> Returns the coefficient of determination (R^2)\n",
    "\n",
    "**lm.coef_** -> Estimated coefficients\n",
    "\n",
    "**lm.intercept_** -> Estimated intercept\n",
    "\n",
    "## Fitting a Linear Model\n"
   ]
  },
  {
   "cell_type": "code",
   "execution_count": 4,
   "metadata": {},
   "outputs": [
    {
     "data": {
      "text/plain": [
       "LinearRegression(copy_X=True, fit_intercept=True, n_jobs=1, normalize=False)"
      ]
     },
     "execution_count": 4,
     "metadata": {},
     "output_type": "execute_result"
    }
   ],
   "source": [
    "lm.fit(X_Time_in_Bed,Y)"
   ]
  },
  {
   "cell_type": "markdown",
   "metadata": {},
   "source": [
    "I am going to print the intercept and number of coefficients"
   ]
  },
  {
   "cell_type": "code",
   "execution_count": 5,
   "metadata": {},
   "outputs": [
    {
     "name": "stdout",
     "output_type": "stream",
     "text": [
      "Estimated coefficient: [[9.32179818]]\n",
      "Estimated intercept coefficient: [12.1999852]\n",
      "Number of coefficients: 1\n"
     ]
    }
   ],
   "source": [
    "print('Estimated coefficient:', lm.coef_)\n",
    "print('Estimated intercept coefficient:', lm.intercept_)\n",
    "print('Number of coefficients:', len(lm.coef_))"
   ]
  },
  {
   "cell_type": "markdown",
   "metadata": {},
   "source": [
    "The regression coefficient can be interpreted as for each extra hour of sleep I get, my sleep quality is increased by 9.3%. The intercept 12.4 can be interpretted as the predicted sleep quality percentage I get if I sleep for zero hours. Not so realistic.\n",
    "\n",
    "The regression line from this model is displayed below:"
   ]
  },
  {
   "cell_type": "code",
   "execution_count": 6,
   "metadata": {},
   "outputs": [
    {
     "data": {
      "image/png": "[encoded data removed]",
      "text/plain": [
       "<Figure size 1152x576 with 1 Axes>"
      ]
     },
     "metadata": {},
     "output_type": "display_data"
    }
   ],
   "source": [
    "predictions = lm.predict(X_Time_in_Bed)\n",
    "\n",
    "\n",
    "plt.figure(figsize=(16, 8))\n",
    "plt.scatter(\n",
    "    X_Time_in_Bed,\n",
    "    Y,\n",
    "    c='black'\n",
    ")\n",
    "\n",
    "plt.plot(\n",
    "    X_Time_in_Bed,\n",
    "    predictions,\n",
    "    c='blue',\n",
    "    linewidth=2\n",
    ")\n",
    "\n",
    "plt.xlabel(\"Time spent in bed\")\n",
    "plt.ylabel(\"Sleep quality (%)\")\n",
    "plt.show()"
   ]
  },
  {
   "cell_type": "markdown",
   "metadata": {},
   "source": [
    "Seems good to me. Sleep quality appears to be related to time spent in bed\n"
   ]
  },
  {
   "cell_type": "markdown",
   "metadata": {},
   "source": [
    "## Assessing the relevancy of the model\n",
    "To see if the model is any good, we need to look at the R² value and the p-value from each coefficient. The regression line is the estimate that minimises the sum of squared residual values (RSS). The method of minimising the sum of squared residuals is termed least squares regression of ordinary least squares (OLS). "
   ]
  },
  {
   "cell_type": "code",
   "execution_count": 7,
   "metadata": {},
   "outputs": [
    {
     "name": "stdout",
     "output_type": "stream",
     "text": [
      "                            OLS Regression Results                            \n",
      "==============================================================================\n",
      "Dep. Variable:          Sleep quality   R-squared:                       0.773\n",
      "Model:                            OLS   Adj. R-squared:                  0.773\n",
      "Method:                 Least Squares   F-statistic:                     1149.\n",
      "Date:                Wed, 18 Sep 2019   Prob (F-statistic):          1.25e-110\n",
      "Time:                        11:00:20   Log-Likelihood:                -1205.7\n",
      "No. Observations:                 339   AIC:                             2415.\n",
      "Df Residuals:                     337   BIC:                             2423.\n",
      "Df Model:                           1                                         \n",
      "Covariance Type:            nonrobust                                         \n",
      "================================================================================\n",
      "                   coef    std err          t      P>|t|      [0.025      0.975]\n",
      "--------------------------------------------------------------------------------\n",
      "const           12.2000      1.917      6.364      0.000       8.429      15.971\n",
      " Time in bed     9.3218      0.275     33.902      0.000       8.781       9.863\n",
      "==============================================================================\n",
      "Omnibus:                      114.061   Durbin-Watson:                   1.704\n",
      "Prob(Omnibus):                  0.000   Jarque-Bera (JB):              405.168\n",
      "Skew:                          -1.461   Prob(JB):                     1.04e-88\n",
      "Kurtosis:                       7.488   Cond. No.                         29.5\n",
      "==============================================================================\n",
      "\n",
      "Warnings:\n",
      "[1] Standard Errors assume that the covariance matrix of the errors is correctly specified.\n"
     ]
    }
   ],
   "source": [
    "X2 = sm.add_constant(X_Time_in_Bed)\n",
    "est = sm.OLS(Y, X2)\n",
    "est2 = est.fit()\n",
    "print(est2.summary())"
   ]
  },
  {
   "cell_type": "markdown",
   "metadata": {},
   "source": [
    "Looking at both coefficients, we have a p-value that is very low (p<0.01). This means that there is a strong correlation between these coefficients and the target (Sleep quality (%)).\n",
    "Then, looking at the R² value, we have 0.773. Therefore, about 77% of the variability of my sleep quality is \n",
    "explained by the number of hours sleep that I get."
   ]
  },
  {
   "cell_type": "code",
   "execution_count": null,
   "metadata": {},
   "outputs": [],
   "source": []
  },
  {
   "cell_type": "code",
   "execution_count": null,
   "metadata": {},
   "outputs": [],
   "source": []
  },
  {
   "cell_type": "code",
   "execution_count": null,
   "metadata": {},
   "outputs": [],
   "source": []
  }
 ],
 "metadata": {
  "kernelspec": {
   "display_name": "Python 3",
   "language": "python",
   "name": "python3"
  },
  "language_info": {
   "codemirror_mode": {
    "name": "ipython",
    "version": 3
   },
   "file_extension": ".py",
   "mimetype": "text/x-python",
   "name": "python",
   "nbconvert_exporter": "python",
   "pygments_lexer": "ipython3",
   "version": "3.6.5"
  }
 },
 "nbformat": 4,
 "nbformat_minor": 2
}
