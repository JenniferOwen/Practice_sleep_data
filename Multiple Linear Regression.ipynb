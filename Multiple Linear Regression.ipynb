{
 "cells": [
  {
   "cell_type": "markdown",
   "metadata": {},
   "source": [
    "# Regression and Prediction\n",
    "\n",
    "## Multiple Linear Regression\n",
    "\n",
    "When there are multiple predictors, the equation is simply extended to accommodate them\n",
    "\n",
    "Y= b0+b1X1+...+bnXn + e \n",
    "\n",
    "where e is the error\n",
    "\n",
    "## The Lingo\n",
    "\n",
    "### Root mean squared error\n",
    "The square root of the average squared error of the regression.\n",
    "### Residual standard error \n",
    "Root mean squared error but adjusted for degrees of freedom.\n",
    "### R squared \n",
    "The proportion of variation explained by the model from 0 to 1.\n",
    "### t-statistic\n",
    "The coefficient for a predictor, divided by the standard error of the coefficient, giving a metric to compare the importance of variables in the model.\n",
    "### Weighted regression\n",
    "Regression with the records having different weights.\n",
    "\n",
    "In multiple linear regression we assess the relevancy of a feature by finding its F-statistic (instead of the p-value in linear model). The F-statistic is calculated for the overall model, whereas the p-value is specific to each predictor. If there is a strong relationship, then F will be much larger than 1. Otherwise, it will be approximately equal to 1."
   ]
  },
  {
   "cell_type": "code",
   "execution_count": 4,
   "metadata": {},
   "outputs": [
    {
     "data": {
      "text/html": [
       "<div>\n",
       "<style scoped>\n",
       "    .dataframe tbody tr th:only-of-type {\n",
       "        vertical-align: middle;\n",
       "    }\n",
       "\n",
       "    .dataframe tbody tr th {\n",
       "        vertical-align: top;\n",
       "    }\n",
       "\n",
       "    .dataframe thead th {\n",
       "        text-align: right;\n",
       "    }\n",
       "</style>\n",
       "<table border=\"1\" class=\"dataframe\">\n",
       "  <thead>\n",
       "    <tr style=\"text-align: right;\">\n",
       "      <th></th>\n",
       "      <th>Sleep quality</th>\n",
       "      <th>Sleep Notes</th>\n",
       "      <th>Heart rate</th>\n",
       "      <th>Activity (steps)</th>\n",
       "      <th>Time in bed in minutes</th>\n",
       "      <th>Day</th>\n",
       "      <th>Month</th>\n",
       "      <th>Year</th>\n",
       "      <th>Bedtime</th>\n",
       "      <th>Woke up</th>\n",
       "      <th>Mood (out of 3)</th>\n",
       "    </tr>\n",
       "  </thead>\n",
       "  <tbody>\n",
       "    <tr>\n",
       "      <th>0</th>\n",
       "      <td>63.0</td>\n",
       "      <td>Away from home:Drinking alcohol</td>\n",
       "      <td>81</td>\n",
       "      <td>10663</td>\n",
       "      <td>498.0</td>\n",
       "      <td>3</td>\n",
       "      <td>12</td>\n",
       "      <td>2017</td>\n",
       "      <td>00:44</td>\n",
       "      <td>09:02</td>\n",
       "      <td>2</td>\n",
       "    </tr>\n",
       "    <tr>\n",
       "      <th>1</th>\n",
       "      <td>72.0</td>\n",
       "      <td>Incense</td>\n",
       "      <td>67</td>\n",
       "      <td>16018</td>\n",
       "      <td>399.0</td>\n",
       "      <td>3</td>\n",
       "      <td>12</td>\n",
       "      <td>2017</td>\n",
       "      <td>23:17</td>\n",
       "      <td>05:56</td>\n",
       "      <td>2</td>\n",
       "    </tr>\n",
       "    <tr>\n",
       "      <th>2</th>\n",
       "      <td>84.0</td>\n",
       "      <td>Stressful day:🙂</td>\n",
       "      <td>81</td>\n",
       "      <td>6064</td>\n",
       "      <td>490.0</td>\n",
       "      <td>4</td>\n",
       "      <td>12</td>\n",
       "      <td>2017</td>\n",
       "      <td>22:38</td>\n",
       "      <td>06:49</td>\n",
       "      <td>2</td>\n",
       "    </tr>\n",
       "    <tr>\n",
       "      <th>3</th>\n",
       "      <td>83.0</td>\n",
       "      <td>Aerial:🙁</td>\n",
       "      <td>89</td>\n",
       "      <td>4378</td>\n",
       "      <td>496.0</td>\n",
       "      <td>5</td>\n",
       "      <td>12</td>\n",
       "      <td>2017</td>\n",
       "      <td>22:34</td>\n",
       "      <td>06:50</td>\n",
       "      <td>2</td>\n",
       "    </tr>\n",
       "    <tr>\n",
       "      <th>4</th>\n",
       "      <td>74.0</td>\n",
       "      <td>Incense</td>\n",
       "      <td>81</td>\n",
       "      <td>3105</td>\n",
       "      <td>450.0</td>\n",
       "      <td>6</td>\n",
       "      <td>12</td>\n",
       "      <td>2017</td>\n",
       "      <td>23:31</td>\n",
       "      <td>07:01</td>\n",
       "      <td>2</td>\n",
       "    </tr>\n",
       "  </tbody>\n",
       "</table>\n",
       "</div>"
      ],
      "text/plain": [
       "   Sleep quality                      Sleep Notes  Heart rate  \\\n",
       "0           63.0  Away from home:Drinking alcohol          81   \n",
       "1           72.0                          Incense          67   \n",
       "2           84.0                  Stressful day:🙂          81   \n",
       "3           83.0                         Aerial:🙁          89   \n",
       "4           74.0                          Incense          81   \n",
       "\n",
       "   Activity (steps)  Time in bed in minutes  Day  Month  Year Bedtime Woke up  \\\n",
       "0             10663                   498.0    3     12  2017   00:44   09:02   \n",
       "1             16018                   399.0    3     12  2017   23:17   05:56   \n",
       "2              6064                   490.0    4     12  2017   22:38   06:49   \n",
       "3              4378                   496.0    5     12  2017   22:34   06:50   \n",
       "4              3105                   450.0    6     12  2017   23:31   07:01   \n",
       "\n",
       "   Mood (out of 3)  \n",
       "0                2  \n",
       "1                2  \n",
       "2                2  \n",
       "3                2  \n",
       "4                2  "
      ]
     },
     "execution_count": 4,
     "metadata": {},
     "output_type": "execute_result"
    }
   ],
   "source": [
    "# Load the Pandas libraries with alias 'pd' \n",
    "import pandas as pd \n",
    "\n",
    "# Read data from file 'filename.csv' \n",
    "# (in the same directory that your python process is based)\n",
    "# Control delimiters, rows, column names with read_csv (see later) \n",
    "df = pd.read_csv(\"clean_sleepdata.csv\") \n",
    "df=df.drop(['Unnamed: 0'], axis=1)\n",
    "\n",
    "# Preview the first 5 lines of the loaded data \n",
    "df.head()"
   ]
  },
  {
   "cell_type": "code",
   "execution_count": 5,
   "metadata": {},
   "outputs": [
    {
     "name": "stdout",
     "output_type": "stream",
     "text": [
      "<class 'pandas.core.frame.DataFrame'>\n",
      "RangeIndex: 323 entries, 0 to 322\n",
      "Data columns (total 11 columns):\n",
      "Sleep quality             323 non-null float64\n",
      "Sleep Notes               225 non-null object\n",
      "Heart rate                323 non-null int64\n",
      "Activity (steps)          323 non-null int64\n",
      "Time in bed in minutes    323 non-null float64\n",
      "Day                       323 non-null int64\n",
      "Month                     323 non-null int64\n",
      "Year                      323 non-null int64\n",
      "Bedtime                   323 non-null object\n",
      "Woke up                   323 non-null object\n",
      "Mood (out of 3)           323 non-null int64\n",
      "dtypes: float64(2), int64(6), object(3)\n",
      "memory usage: 27.8+ KB\n"
     ]
    }
   ],
   "source": [
    "import pandas as pd\n",
    "import numpy as np\n",
    "import matplotlib.pyplot as plt\n",
    "from sklearn.linear_model import LinearRegression\n",
    "from sklearn.metrics import r2_score\n",
    "import statsmodels.api as sm\n",
    "df.info()"
   ]
  },
  {
   "cell_type": "code",
   "execution_count": 10,
   "metadata": {},
   "outputs": [
    {
     "data": {
      "text/plain": [
       "LinearRegression(copy_X=True, fit_intercept=True, n_jobs=1, normalize=False)"
      ]
     },
     "execution_count": 10,
     "metadata": {},
     "output_type": "execute_result"
    }
   ],
   "source": [
    "df_test = df.drop(['Sleep Notes', 'Bedtime', 'Woke up'], axis=1)\n",
    "Xs = df_test.drop(['Sleep quality'], axis=1)\n",
    "y = df_test[['Sleep quality']]\n",
    "reg = LinearRegression()\n",
    "reg.fit(Xs, y)"
   ]
  },
  {
   "cell_type": "code",
   "execution_count": 12,
   "metadata": {},
   "outputs": [
    {
     "name": "stdout",
     "output_type": "stream",
     "text": [
      "                            OLS Regression Results                            \n",
      "==============================================================================\n",
      "Dep. Variable:          Sleep quality   R-squared:                       0.754\n",
      "Model:                            OLS   Adj. R-squared:                  0.749\n",
      "Method:                 Least Squares   F-statistic:                     138.2\n",
      "Date:                Sat, 21 Sep 2019   Prob (F-statistic):           4.30e-92\n",
      "Time:                        19:39:41   Log-Likelihood:                -1131.5\n",
      "No. Observations:                 323   AIC:                             2279.\n",
      "Df Residuals:                     315   BIC:                             2309.\n",
      "Df Model:                           7                                         \n",
      "Covariance Type:            nonrobust                                         \n",
      "==========================================================================================\n",
      "                             coef    std err          t      P>|t|      [0.025      0.975]\n",
      "------------------------------------------------------------------------------------------\n",
      "const                  -7156.3000   1925.468     -3.717      0.000   -1.09e+04   -3367.896\n",
      "Heart rate                -0.0701      0.047     -1.497      0.135      -0.162       0.022\n",
      "Activity (steps)          -0.0001   8.22e-05     -1.653      0.099      -0.000    2.58e-05\n",
      "Time in bed in minutes     0.1526      0.005     29.966      0.000       0.143       0.163\n",
      "Day                        0.0124      0.052      0.237      0.813      -0.091       0.116\n",
      "Month                      0.1756      0.149      1.176      0.241      -0.118       0.469\n",
      "Year                       3.5526      0.954      3.726      0.000       1.676       5.429\n",
      "Mood (out of 3)            0.2521      0.837      0.301      0.763      -1.395       1.899\n",
      "==============================================================================\n",
      "Omnibus:                      141.033   Durbin-Watson:                   1.697\n",
      "Prob(Omnibus):                  0.000   Jarque-Bera (JB):              683.588\n",
      "Skew:                          -1.803   Prob(JB):                    3.64e-149\n",
      "Kurtosis:                       9.147   Cond. No.                     3.74e+07\n",
      "==============================================================================\n",
      "\n",
      "Warnings:\n",
      "[1] Standard Errors assume that the covariance matrix of the errors is correctly specified.\n",
      "[2] The condition number is large, 3.74e+07. This might indicate that there are\n",
      "strong multicollinearity or other numerical problems.\n"
     ]
    }
   ],
   "source": [
    "X2 = sm.add_constant(Xs)\n",
    "est = sm.OLS(y, X2)\n",
    "est2 = est.fit()\n",
    "print(est2.summary())"
   ]
  },
  {
   "cell_type": "markdown",
   "metadata": {},
   "source": [
    "The R² isn't much higher than that of simple linear regression, with a value of 0.75. This is because the p-value for hours in bed is low! \n",
    "\n",
    "Also, the F-statistic is 138.2. This is much greater than 1, it demonstrates that there is a strong relationship between sleep quality and the variables we have considered. \n",
    "\n",
    "However, some of the p values are high and thus we can assume are not statistically significant. Removing these predictors would slightly reduce the R² value, but we might make better predictions.\n"
   ]
  },
  {
   "cell_type": "markdown",
   "metadata": {},
   "source": [
    "Let's see the two variables with a low p value. "
   ]
  },
  {
   "cell_type": "code",
   "execution_count": 16,
   "metadata": {},
   "outputs": [
    {
     "data": {
      "image/png": "[encoded data removed]",
      "text/plain": [
       "<Figure size 1152x576 with 1 Axes>"
      ]
     },
     "metadata": {},
     "output_type": "display_data"
    }
   ],
   "source": [
    "#I want to know if the year has had an effect on my sleep quality\n",
    "\n",
    "from sklearn.linear_model import LinearRegression\n",
    "import matplotlib.pyplot as plt\n",
    "import numpy as np\n",
    "import statsmodels.api as sm\n",
    "\n",
    "#This creates a LinearRegression object\n",
    "lm = LinearRegression()\n",
    "\n",
    "X_Year= df[['Year']]\n",
    "Y= df[['Sleep quality']]\n",
    "\n",
    "lm.fit(X_Year, Y)\n",
    "\n",
    "predictions = lm.predict(X_Year)\n",
    "\n",
    "\n",
    "plt.figure(figsize=(16, 8))\n",
    "plt.scatter(\n",
    "    X_Year,\n",
    "    Y,\n",
    "    c='black'\n",
    ")\n",
    "\n",
    "plt.plot(\n",
    "    X_Year,\n",
    "    predictions,\n",
    "    c='blue',\n",
    "    linewidth=2\n",
    ")\n",
    "\n",
    "plt.xlabel(\"Year\")\n",
    "plt.ylabel(\"Sleep quality (%)\")\n",
    "plt.show()"
   ]
  },
  {
   "cell_type": "markdown",
   "metadata": {},
   "source": [
    "Interestingly, my sleep has been increasing in quality in the last few years."
   ]
  },
  {
   "cell_type": "code",
   "execution_count": 20,
   "metadata": {},
   "outputs": [
    {
     "data": {
      "text/plain": [
       "LinearRegression(copy_X=True, fit_intercept=True, n_jobs=1, normalize=False)"
      ]
     },
     "execution_count": 20,
     "metadata": {},
     "output_type": "execute_result"
    }
   ],
   "source": [
    "Xs = df_test[['Time in bed in minutes','Year']]\n",
    "y = df_test[['Sleep quality']]\n",
    "reg = LinearRegression()\n",
    "reg.fit(Xs, y)"
   ]
  },
  {
   "cell_type": "code",
   "execution_count": 21,
   "metadata": {},
   "outputs": [
    {
     "name": "stdout",
     "output_type": "stream",
     "text": [
      "                            OLS Regression Results                            \n",
      "==============================================================================\n",
      "Dep. Variable:          Sleep quality   R-squared:                       0.749\n",
      "Model:                            OLS   Adj. R-squared:                  0.747\n",
      "Method:                 Least Squares   F-statistic:                     477.6\n",
      "Date:                Sat, 21 Sep 2019   Prob (F-statistic):           8.54e-97\n",
      "Time:                        20:00:06   Log-Likelihood:                -1135.0\n",
      "No. Observations:                 323   AIC:                             2276.\n",
      "Df Residuals:                     320   BIC:                             2287.\n",
      "Df Model:                           2                                         \n",
      "Covariance Type:            nonrobust                                         \n",
      "==========================================================================================\n",
      "                             coef    std err          t      P>|t|      [0.025      0.975]\n",
      "------------------------------------------------------------------------------------------\n",
      "const                  -5472.5446   1542.401     -3.548      0.000   -8507.072   -2438.017\n",
      "Time in bed in minutes     0.1535      0.005     30.580      0.000       0.144       0.163\n",
      "Year                       2.7157      0.764      3.553      0.000       1.212       4.219\n",
      "==============================================================================\n",
      "Omnibus:                      152.007   Durbin-Watson:                   1.730\n",
      "Prob(Omnibus):                  0.000   Jarque-Bera (JB):              813.788\n",
      "Skew:                          -1.930   Prob(JB):                    1.94e-177\n",
      "Kurtosis:                       9.751   Cond. No.                     7.02e+06\n",
      "==============================================================================\n",
      "\n",
      "Warnings:\n",
      "[1] Standard Errors assume that the covariance matrix of the errors is correctly specified.\n",
      "[2] The condition number is large, 7.02e+06. This might indicate that there are\n",
      "strong multicollinearity or other numerical problems.\n"
     ]
    }
   ],
   "source": [
    "X2 = sm.add_constant(Xs)\n",
    "est = sm.OLS(y, X2)\n",
    "est2 = est.fit()\n",
    "print(est2.summary())"
   ]
  },
  {
   "cell_type": "markdown",
   "metadata": {},
   "source": [
    "Here the F-statistic has shot up to 477.6 suggesting that it is a much better fit of the data."
   ]
  },
  {
   "cell_type": "code",
   "execution_count": null,
   "metadata": {},
   "outputs": [],
   "source": []
  },
  {
   "cell_type": "code",
   "execution_count": null,
   "metadata": {},
   "outputs": [],
   "source": []
  }
 ],
 "metadata": {
  "kernelspec": {
   "display_name": "Python 3",
   "language": "python",
   "name": "python3"
  },
  "language_info": {
   "codemirror_mode": {
    "name": "ipython",
    "version": 3
   },
   "file_extension": ".py",
   "mimetype": "text/x-python",
   "name": "python",
   "nbconvert_exporter": "python",
   "pygments_lexer": "ipython3",
   "version": "3.6.5"
  }
 },
 "nbformat": 4,
 "nbformat_minor": 2
}
