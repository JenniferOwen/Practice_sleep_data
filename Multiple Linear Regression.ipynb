{
 "cells": [
  {
   "cell_type": "markdown",
   "metadata": {},
   "source": [
    "# Regression and Prediction\n",
    "\n",
    "## Multiple Linear Regression\n",
    "\n",
    "When there are multiple predictors, the equation is simply extended to accommodate them\n",
    "\n",
    "Y= b0+b1X1+...+bnXn + e \n",
    "\n",
    "where e is the error\n",
    "\n",
    "## The Lingo\n",
    "\n",
    "### Root mean squared error\n",
    "The square root of the average squared error of the regression.\n",
    "### Residual standard error \n",
    "Root mean squared error but adjusted for degrees of freedom.\n",
    "### R squared \n",
    "The proportion of variation explained by the model from 0 to 1.\n",
    "### t-statistic\n",
    "The coefficient for a predictor, divided by the standard error of the coefficient, giving a metric to compare the importance of variables in the model.\n",
    "### Weighted regression\n",
    "Regression with the records having different weights.\n",
    "\n"
   ]
  }
 ],
 "metadata": {
  "kernelspec": {
   "display_name": "Python 3",
   "language": "python",
   "name": "python3"
  },
  "language_info": {
   "codemirror_mode": {
    "name": "ipython",
    "version": 3
   },
   "file_extension": ".py",
   "mimetype": "text/x-python",
   "name": "python",
   "nbconvert_exporter": "python",
   "pygments_lexer": "ipython3",
   "version": "3.6.5"
  }
 },
 "nbformat": 4,
 "nbformat_minor": 2
}
